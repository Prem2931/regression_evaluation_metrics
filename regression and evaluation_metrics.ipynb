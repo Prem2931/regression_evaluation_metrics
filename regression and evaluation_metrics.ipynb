{
 "cells": [
  {
   "cell_type": "code",
   "execution_count": 15,
   "id": "d7c3e930",
   "metadata": {},
   "outputs": [],
   "source": [
    "# Q1>>What does R-squared represent in a regression model:\n",
    "\n",
    "# Ans>>R-squared measures the proportion of variance in the dependent variable that is explained by the independent variables. It ranges from 0 to 1, where a higher value indicates a better fit of the model to the data."
   ]
  },
  {
   "cell_type": "code",
   "execution_count": 16,
   "id": "f6e30e01",
   "metadata": {},
   "outputs": [],
   "source": [
    "# Q2>>What are the assumptions of linear regression?\n",
    "\n",
    "# Ans>>Linearity: The relationship between independent and dependent variables is linear.\n",
    "\n",
    "# Independence: Observations are independent of each other.\n",
    "\n",
    "# Homoscedasticity: The residuals (errors) have constant variance.\n",
    "\n",
    "# Normality of Residuals: Residuals are normally distributed.\n",
    "\n",
    "# No Multicollinearity: Independent variables are not highly correlated"
   ]
  },
  {
   "cell_type": "code",
   "execution_count": 17,
   "id": "6d7a95bc",
   "metadata": {},
   "outputs": [],
   "source": [
    "# Q3>>What is the difference between R-squared and Adjusted R-squared?\n",
    "\n",
    "# Ans>>R-squared increases as more predictors are added to the model, even if they are not significant.\n",
    "\n",
    "# Adjusted R-squared adjusts for the number of predictors and only increases if the new predictor improves the model more than expected by chance."
   ]
  },
  {
   "cell_type": "code",
   "execution_count": 18,
   "id": "e88adc14",
   "metadata": {},
   "outputs": [],
   "source": [
    "# Qn4>> Why do we use Mean Squared Error (MSE)?\n",
    "\n",
    "# Ans>>MSE is a popular metric to measure the average squared differences between predicted and actual values. It penalizes large errors more than small errors, making it sensitive to outliers and suitable for optimization during model training."
   ]
  },
  {
   "cell_type": "code",
   "execution_count": 19,
   "id": "c31d6b8a",
   "metadata": {},
   "outputs": [],
   "source": [
    "# Qn5>>What does an Adjusted R-squared value of 0.85 indicate?\n",
    "\n",
    "# Ans>>An Adjusted R-squared of 0.85 means 85% of the variance in the dependent variable is explained by the independent variables, accounting for the number of predictors in the model."
   ]
  },
  {
   "cell_type": "code",
   "execution_count": 20,
   "id": "66dbff60",
   "metadata": {},
   "outputs": [],
   "source": [
    "# Qn6>>How do we check for normality of residuals in linear regression?\n",
    "\n",
    "# Ans>> Use a Q-Q plot to compare residuals to a normal distribution.\n",
    "\n",
    "# Perform a statistical test like the Shapiro-Wilk or Kolmogorov-Smirnov test.\n",
    "\n",
    "# Visualize the residuals using a histogram."
   ]
  },
  {
   "cell_type": "code",
   "execution_count": 21,
   "id": "42d98c5e",
   "metadata": {},
   "outputs": [],
   "source": [
    "# Qn7>> What is multicollinearity, and how does it impact regression?\n",
    "\n",
    "# Ans>> Multicollinearity occurs when independent variables are highly correlated. It can inflate the standard errors of coefficients, making it difficult to determine the individual impact of predictors."
   ]
  },
  {
   "cell_type": "code",
   "execution_count": 22,
   "id": "2a484a41",
   "metadata": {},
   "outputs": [],
   "source": [
    "# Qn8>>What is Mean Absolute Error (MAE)?\n",
    "\n",
    "# MAE measures the average absolute difference between predicted and actual values. It is less sensitive to outliers compared to MSE."
   ]
  },
  {
   "cell_type": "code",
   "execution_count": 23,
   "id": "21529ef9",
   "metadata": {},
   "outputs": [],
   "source": [
    "# Qn9>>What are the benefits of using an ML pipeline?\n",
    "\n",
    "# Ans>>\n",
    "\n",
    "# Automation: Streamlines preprocessing and modeling steps.\n",
    "\n",
    "# Reproducibility: Ensures consistent transformations and predictions.\n",
    "\n",
    "# Ease of Experimentation: Simplifies testing different configurations.\n",
    "\n",
    "# Error Reduction: Reduces the likelihood of manual errors in data handling."
   ]
  },
  {
   "cell_type": "code",
   "execution_count": 24,
   "id": "fa1e8c67",
   "metadata": {},
   "outputs": [],
   "source": [
    "# Qn10>> Why is RMSE considered more interpretable than MSE?\n",
    "\n",
    "# RMSE (Root Mean Squared Error) is in the same units as the dependent variable, making it easier to interpret compared to MSE, which is in squared units."
   ]
  },
  {
   "cell_type": "code",
   "execution_count": 25,
   "id": "7ae752eb",
   "metadata": {},
   "outputs": [],
   "source": [
    "# Qn11>>What is pickling in Python, and how is it useful in ML?\n",
    "\n",
    "# Pickling is the process of serializing Python objects into binary files using pickle. In ML, it allows saving trained models and reloading them for later use without retraining."
   ]
  },
  {
   "cell_type": "code",
   "execution_count": 26,
   "id": "602f4a29",
   "metadata": {},
   "outputs": [],
   "source": [
    "# Qn12>> What does a high R-squared value mean?\n",
    "\n",
    "# A high R-squared value indicates that the model explains a large proportion of the variance in the dependent variable. However, it does not guarantee good predictions or validity of the model assumptions."
   ]
  },
  {
   "cell_type": "code",
   "execution_count": 27,
   "id": "f032771d",
   "metadata": {},
   "outputs": [],
   "source": [
    "# Qn13>> What happens if linear regression assumptions are violated?\n",
    "\n",
    "# Violations can lead to:\n",
    "\n",
    "# Biased or inefficient estimates.\n",
    "\n",
    "# Misleading results.\n",
    "\n",
    "# Reduced predictive accuracy."
   ]
  },
  {
   "cell_type": "code",
   "execution_count": 28,
   "id": "865babeb",
   "metadata": {},
   "outputs": [],
   "source": [
    "# Qn14>> How can we address multicollinearity in regression?\n",
    "\n",
    "# Remove or combine highly correlated predictors.\n",
    "\n",
    "# Use regularization methods like Ridge or Lasso regression.\n",
    "\n",
    "# Calculate and remove variables with high Variance Inflation Factor (VIF)."
   ]
  },
  {
   "cell_type": "code",
   "execution_count": 30,
   "id": "4027dddd",
   "metadata": {},
   "outputs": [],
   "source": [
    "# Qn15>> How can feature selection improve model performance in regression analysis?\n",
    "\n",
    "# Feature selection removes irrelevant or redundant variables, improving:\n",
    "\n",
    "# Model interpretability.\n",
    "\n",
    "# Computational efficiency.\n",
    "\n",
    "# Generalization to new data."
   ]
  },
  {
   "cell_type": "code",
   "execution_count": 31,
   "id": "45c7c453",
   "metadata": {},
   "outputs": [],
   "source": [
    "# Qn16>>How is Adjusted R-squared calculated?\n",
    "\n",
    "# Ans>> 1-(1-rsq)*(len(y_test)-1)/(len(y_test)-X_test.shape[1] - 1)"
   ]
  },
  {
   "cell_type": "code",
   "execution_count": 32,
   "id": "b98cbd63",
   "metadata": {},
   "outputs": [],
   "source": [
    "# Qn17>>Why is MSE sensitive to outliers?\n",
    "\n",
    "# MSE squares the residuals, so larger errors contribute disproportionately to the metric, making it highly sensitive to outliers."
   ]
  },
  {
   "cell_type": "code",
   "execution_count": 33,
   "id": "92472c36",
   "metadata": {},
   "outputs": [],
   "source": [
    "# Qn18>>What is the role of homoscedasticity in linear regression?\n",
    "\n",
    "# Homoscedasticity ensures that the variance of residuals is constant across all levels of the independent variables. Violation can lead to inefficient estimates and unreliable hypothesis tests."
   ]
  },
  {
   "cell_type": "code",
   "execution_count": 34,
   "id": "f9ddc816",
   "metadata": {},
   "outputs": [],
   "source": [
    "# Qn19>> What is Root Mean Squared Error (RMSE)?\n",
    "\n",
    "# RMSE is the square root of the Mean Squared Error and measures the average error magnitude between predictions and actual values, expressed in the same units as the target variable."
   ]
  },
  {
   "cell_type": "code",
   "execution_count": 35,
   "id": "7f9c093a",
   "metadata": {},
   "outputs": [],
   "source": [
    "# Qn20>>Why is pickling considered risky?\n",
    "\n",
    "# Pickled files can execute arbitrary code when unpickled, making them vulnerable to malicious attacks if loaded from untrusted sources."
   ]
  },
  {
   "cell_type": "code",
   "execution_count": 36,
   "id": "716ba288",
   "metadata": {},
   "outputs": [],
   "source": [
    "# Qn21>>What alternatives exist to pickling for saving ML models?\n",
    "\n",
    "# Joblib: Optimized for large arrays and objects.\n",
    "\n",
    "# ONNX: Open Neural Network Exchange format for interoperability.\n",
    "\n",
    "# JSON: For simple, text-based serialization of lightweight objects.\n",
    "\n",
    "# HDF5: For managing complex, hierarchical data structures."
   ]
  },
  {
   "cell_type": "code",
   "execution_count": 37,
   "id": "8720248a",
   "metadata": {},
   "outputs": [],
   "source": [
    "# Qn22>> What is heteroscedasticity, and why is it a problem?\n",
    "\n",
    "# Heteroscedasticity occurs when residuals have non-constant variance. It violates regression assumptions, leading to inefficient estimates and unreliable hypothesis tests."
   ]
  },
  {
   "cell_type": "code",
   "execution_count": 38,
   "id": "3188741c",
   "metadata": {},
   "outputs": [],
   "source": [
    "# Qn23>> How can interaction terms enhance a regression model's predictive power?\n",
    "\n",
    "# Interaction terms capture the combined effect of two or more predictors on the target variable, improving the model's ability to account for complex relationships.\n",
    "\n"
   ]
  },
  {
   "cell_type": "code",
   "execution_count": null,
   "id": "48c97492",
   "metadata": {},
   "outputs": [],
   "source": []
  },
  {
   "cell_type": "code",
   "execution_count": null,
   "id": "61550cb3",
   "metadata": {},
   "outputs": [],
   "source": []
  },
  {
   "cell_type": "code",
   "execution_count": null,
   "id": "ab84442f",
   "metadata": {},
   "outputs": [],
   "source": []
  },
  {
   "cell_type": "code",
   "execution_count": null,
   "id": "86020fc7",
   "metadata": {},
   "outputs": [],
   "source": []
  },
  {
   "cell_type": "code",
   "execution_count": null,
   "id": "0efc948c",
   "metadata": {},
   "outputs": [],
   "source": []
  },
  {
   "cell_type": "code",
   "execution_count": null,
   "id": "bf1133b0",
   "metadata": {},
   "outputs": [],
   "source": []
  },
  {
   "cell_type": "code",
   "execution_count": null,
   "id": "8a0e3150",
   "metadata": {},
   "outputs": [],
   "source": []
  },
  {
   "cell_type": "code",
   "execution_count": null,
   "id": "eac390ae",
   "metadata": {},
   "outputs": [],
   "source": []
  },
  {
   "cell_type": "code",
   "execution_count": null,
   "id": "1dcab399",
   "metadata": {},
   "outputs": [],
   "source": []
  },
  {
   "cell_type": "code",
   "execution_count": null,
   "id": "7e180cf3",
   "metadata": {},
   "outputs": [],
   "source": []
  },
  {
   "cell_type": "code",
   "execution_count": null,
   "id": "15b99cf1",
   "metadata": {},
   "outputs": [],
   "source": []
  },
  {
   "cell_type": "code",
   "execution_count": null,
   "id": "ec2722c6",
   "metadata": {},
   "outputs": [],
   "source": []
  },
  {
   "cell_type": "code",
   "execution_count": null,
   "id": "64c05e9f",
   "metadata": {},
   "outputs": [],
   "source": []
  },
  {
   "cell_type": "code",
   "execution_count": null,
   "id": "22dc19fc",
   "metadata": {},
   "outputs": [],
   "source": []
  },
  {
   "cell_type": "code",
   "execution_count": null,
   "id": "e0bf0536",
   "metadata": {},
   "outputs": [],
   "source": []
  },
  {
   "cell_type": "code",
   "execution_count": null,
   "id": "4ebb5cdb",
   "metadata": {},
   "outputs": [],
   "source": []
  },
  {
   "cell_type": "code",
   "execution_count": null,
   "id": "fc96afb4",
   "metadata": {},
   "outputs": [],
   "source": []
  },
  {
   "cell_type": "code",
   "execution_count": null,
   "id": "7bcce1bc",
   "metadata": {},
   "outputs": [],
   "source": []
  },
  {
   "cell_type": "code",
   "execution_count": null,
   "id": "ea076fdd",
   "metadata": {},
   "outputs": [],
   "source": []
  },
  {
   "cell_type": "code",
   "execution_count": null,
   "id": "0e608fdf",
   "metadata": {},
   "outputs": [],
   "source": []
  },
  {
   "cell_type": "code",
   "execution_count": null,
   "id": "af93440d",
   "metadata": {},
   "outputs": [],
   "source": []
  },
  {
   "cell_type": "code",
   "execution_count": null,
   "id": "99552a04",
   "metadata": {},
   "outputs": [],
   "source": []
  },
  {
   "cell_type": "code",
   "execution_count": null,
   "id": "db333e39",
   "metadata": {},
   "outputs": [],
   "source": []
  },
  {
   "cell_type": "code",
   "execution_count": null,
   "id": "9aa71f5d",
   "metadata": {},
   "outputs": [],
   "source": []
  },
  {
   "cell_type": "code",
   "execution_count": null,
   "id": "8d665ecf",
   "metadata": {},
   "outputs": [],
   "source": []
  },
  {
   "cell_type": "code",
   "execution_count": null,
   "id": "8c8f91fd",
   "metadata": {},
   "outputs": [],
   "source": []
  },
  {
   "cell_type": "code",
   "execution_count": null,
   "id": "f54e812d",
   "metadata": {},
   "outputs": [],
   "source": []
  },
  {
   "cell_type": "code",
   "execution_count": null,
   "id": "f3112314",
   "metadata": {},
   "outputs": [],
   "source": []
  },
  {
   "cell_type": "code",
   "execution_count": null,
   "id": "195cd455",
   "metadata": {},
   "outputs": [],
   "source": []
  },
  {
   "cell_type": "code",
   "execution_count": null,
   "id": "1492064f",
   "metadata": {},
   "outputs": [],
   "source": []
  },
  {
   "cell_type": "code",
   "execution_count": null,
   "id": "672305bb",
   "metadata": {},
   "outputs": [],
   "source": []
  },
  {
   "cell_type": "code",
   "execution_count": null,
   "id": "78e4a5ad",
   "metadata": {},
   "outputs": [],
   "source": []
  },
  {
   "cell_type": "code",
   "execution_count": null,
   "id": "c1c0f241",
   "metadata": {},
   "outputs": [],
   "source": []
  },
  {
   "cell_type": "code",
   "execution_count": null,
   "id": "6a5a7385",
   "metadata": {},
   "outputs": [],
   "source": []
  },
  {
   "cell_type": "code",
   "execution_count": null,
   "id": "7913aecb",
   "metadata": {},
   "outputs": [],
   "source": []
  },
  {
   "cell_type": "code",
   "execution_count": null,
   "id": "83efc40e",
   "metadata": {},
   "outputs": [],
   "source": []
  },
  {
   "cell_type": "code",
   "execution_count": null,
   "id": "b8eafbca",
   "metadata": {},
   "outputs": [],
   "source": []
  },
  {
   "cell_type": "code",
   "execution_count": null,
   "id": "0596ab1f",
   "metadata": {},
   "outputs": [],
   "source": []
  },
  {
   "cell_type": "code",
   "execution_count": null,
   "id": "5c61ac3d",
   "metadata": {},
   "outputs": [],
   "source": []
  },
  {
   "cell_type": "code",
   "execution_count": null,
   "id": "100a807f",
   "metadata": {},
   "outputs": [],
   "source": []
  }
 ],
 "metadata": {
  "kernelspec": {
   "display_name": "Python 3 (ipykernel)",
   "language": "python",
   "name": "python3"
  },
  "language_info": {
   "codemirror_mode": {
    "name": "ipython",
    "version": 3
   },
   "file_extension": ".py",
   "mimetype": "text/x-python",
   "name": "python",
   "nbconvert_exporter": "python",
   "pygments_lexer": "ipython3",
   "version": "3.11.5"
  }
 },
 "nbformat": 4,
 "nbformat_minor": 5
}
